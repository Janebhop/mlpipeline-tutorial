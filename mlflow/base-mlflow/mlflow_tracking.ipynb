{
 "cells": [
  {
   "cell_type": "code",
   "execution_count": 2,
   "metadata": {},
   "outputs": [
    {
     "name": "stderr",
     "output_type": "stream",
     "text": [
      "2023/11/29 10:46:29 INFO mlflow.utils.autologging_utils: Created MLflow autologging run with ID '147946e564a745788535823831ddcecd', which will track hyperparameters, performance metrics, model artifacts, and lineage information for the current tensorflow workflow\n"
     ]
    },
    {
     "name": "stdout",
     "output_type": "stream",
     "text": [
      "Epoch 1/10\n",
      "   1/1875 [..............................] - ETA: 8:59 - loss: 182.8818 - accuracy: 0.1875WARNING:tensorflow:Callback method `on_train_batch_end` is slow compared to the batch time (batch time: 0.0018s vs `on_train_batch_end` time: 0.0019s). Check your callbacks.\n",
      "1875/1875 [==============================] - 3s 2ms/step - loss: 2.7743 - accuracy: 0.6780\n",
      "Epoch 2/10\n",
      "1875/1875 [==============================] - 4s 2ms/step - loss: 0.6518 - accuracy: 0.7591\n",
      "Epoch 3/10\n",
      "1875/1875 [==============================] - 3s 2ms/step - loss: 0.5551 - accuracy: 0.8082\n",
      "Epoch 4/10\n",
      "1875/1875 [==============================] - 3s 2ms/step - loss: 0.5246 - accuracy: 0.8193\n",
      "Epoch 5/10\n",
      "1875/1875 [==============================] - 3s 2ms/step - loss: 0.5094 - accuracy: 0.8228\n",
      "Epoch 6/10\n",
      "1875/1875 [==============================] - 4s 2ms/step - loss: 0.4984 - accuracy: 0.8322\n",
      "Epoch 7/10\n",
      "1875/1875 [==============================] - 3s 2ms/step - loss: 0.4933 - accuracy: 0.8363\n",
      "Epoch 8/10\n",
      "1875/1875 [==============================] - 3s 2ms/step - loss: 0.4712 - accuracy: 0.8422\n",
      "Epoch 9/10\n",
      "1875/1875 [==============================] - 3s 2ms/step - loss: 0.4692 - accuracy: 0.8431\n",
      "Epoch 10/10\n",
      "1875/1875 [==============================] - 4s 2ms/step - loss: 0.4592 - accuracy: 0.8472\n",
      "1/1 [==============================] - 0s 43ms/step\n",
      "INFO:tensorflow:Assets written to: C:\\Users\\janebhop.saw\\AppData\\Local\\Temp\\tmp3cpz_ptg\\model\\data\\model\\assets\n"
     ]
    },
    {
     "data": {
      "text/plain": [
       "<keras.callbacks.History at 0x26a78876340>"
      ]
     },
     "execution_count": 2,
     "metadata": {},
     "output_type": "execute_result"
    }
   ],
   "source": [
    "## MLflow log model\n",
    "import tensorflow as tf\n",
    "import mlflow \n",
    "EXPERIMENT_ID = 326755177053281989\n",
    "TRACKING_URI = 'http://localhost:5000'\n",
    "mlflow.set_tracking_uri(TRACKING_URI)\n",
    "mlflow.set_experiment(experiment_id=EXPERIMENT_ID)\n",
    "mlflow.tensorflow.autolog()\n",
    "fashion_mnist = tf.keras.datasets.fashion_mnist\n",
    "(train_images, train_labels), (test_images, test_labels) = fashion_mnist.load_data()\n",
    "model = tf.keras.Sequential([\n",
    "    tf.keras.layers.Flatten(input_shape=(28, 28)),\n",
    "    tf.keras.layers.Dense(128, activation='relu'),\n",
    "    tf.keras.layers.Dense(10)\n",
    "])\n",
    "model.compile(optimizer='adam',\n",
    "                loss=tf.keras.losses.SparseCategoricalCrossentropy(from_logits=True),\n",
    "                metrics=['accuracy'])\n",
    "model.fit(train_images, train_labels, epochs=10)"
   ]
  },
  {
   "cell_type": "code",
   "execution_count": 3,
   "metadata": {},
   "outputs": [
    {
     "name": "stdout",
     "output_type": "stream",
     "text": [
      "313/313 [==============================] - 1s 2ms/step\n"
     ]
    },
    {
     "data": {
      "text/plain": [
       "array([[  27.302088 ,   17.50062  ,  -19.397936 , ...,   45.383568 ,\n",
       "          22.01768  ,   49.563732 ],\n",
       "       [   4.063284 ,    2.7205858,    6.776216 , ...,   -5.0703025,\n",
       "           3.419381 ,   -1.4428979],\n",
       "       [ 111.253716 ,  123.41339  ,   86.911224 , ...,  -91.659004 ,\n",
       "          88.00613  , -112.95311  ],\n",
       "       ...,\n",
       "       [  88.812706 ,   73.12668  ,   81.50167  , ...,    2.097541 ,\n",
       "         118.06956  ,   63.329544 ],\n",
       "       [  72.27814  ,   81.05097  ,   55.562737 , ...,  -71.48572  ,\n",
       "          58.688995 ,  -82.29485  ],\n",
       "       [ -64.399666 ,  -66.230255 ,  -67.80011  , ...,   32.33344  ,\n",
       "          28.124111 ,   24.813547 ]], dtype=float32)"
      ]
     },
     "execution_count": 3,
     "metadata": {},
     "output_type": "execute_result"
    }
   ],
   "source": [
    "# mlflow load model \n",
    "import mlflow \n",
    "import tensorflow as tf\n",
    "fashion_mnist = tf.keras.datasets.fashion_mnist\n",
    "(train_images, train_labels), (test_images, test_labels) = fashion_mnist.load_data()\n",
    "MODEL_URL = 'models:/clothing-classification/Staging'\n",
    "mlflow.set_tracking_uri(TRACKING_URI)\n",
    "model = mlflow.tensorflow.load_model(MODEL_URL)\n",
    "prediction = model.predict(test_images)\n",
    "prediction"
   ]
  },
  {
   "cell_type": "code",
   "execution_count": null,
   "metadata": {},
   "outputs": [],
   "source": []
  }
 ],
 "metadata": {
  "kernelspec": {
   "display_name": "base",
   "language": "python",
   "name": "python3"
  },
  "language_info": {
   "codemirror_mode": {
    "name": "ipython",
    "version": 3
   },
   "file_extension": ".py",
   "mimetype": "text/x-python",
   "name": "python",
   "nbconvert_exporter": "python",
   "pygments_lexer": "ipython3",
   "version": "3.9.13"
  }
 },
 "nbformat": 4,
 "nbformat_minor": 2
}
