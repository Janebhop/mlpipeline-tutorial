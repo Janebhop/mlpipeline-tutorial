{
 "cells": [
  {
   "cell_type": "code",
   "execution_count": 2,
   "metadata": {},
   "outputs": [],
   "source": [
    "import tensorflow as tf\n",
    "from wrapper.model_wrapper import ModelWrapper\n",
    "fashion_mnist = tf.keras.datasets.fashion_mnist\n",
    "(train_images, train_labels), (test_images, test_labels) = fashion_mnist.load_data()\n",
    "class_names = ['T-shirt/top', 'Trouser', 'Pullover', 'Dress', 'Coat','Sandal', 'Shirt', 'Sneaker', 'Bag', 'Ankle boot']"
   ]
  },
  {
   "cell_type": "code",
   "execution_count": 3,
   "metadata": {},
   "outputs": [
    {
     "name": "stdout",
     "output_type": "stream",
     "text": [
      "Epoch 1/10\n",
      "1875/1875 [==============================] - 4s 2ms/step - loss: 3.4003 - accuracy: 0.6838\n",
      "Epoch 2/10\n",
      "1875/1875 [==============================] - 4s 2ms/step - loss: 0.6776 - accuracy: 0.7208\n",
      "Epoch 3/10\n",
      "1875/1875 [==============================] - 4s 2ms/step - loss: 0.5940 - accuracy: 0.7727\n",
      "Epoch 4/10\n",
      "1875/1875 [==============================] - 5s 2ms/step - loss: 0.5456 - accuracy: 0.8037\n",
      "Epoch 5/10\n",
      "1875/1875 [==============================] - 3s 2ms/step - loss: 0.5288 - accuracy: 0.8136\n",
      "Epoch 6/10\n",
      "1875/1875 [==============================] - 4s 2ms/step - loss: 0.5054 - accuracy: 0.8227\n",
      "Epoch 7/10\n",
      "1875/1875 [==============================] - 4s 2ms/step - loss: 0.4868 - accuracy: 0.8326\n",
      "Epoch 8/10\n",
      "1875/1875 [==============================] - 4s 2ms/step - loss: 0.4928 - accuracy: 0.8303\n",
      "Epoch 9/10\n",
      "1875/1875 [==============================] - 4s 2ms/step - loss: 0.4732 - accuracy: 0.8376\n",
      "Epoch 10/10\n",
      "1875/1875 [==============================] - 5s 3ms/step - loss: 0.4760 - accuracy: 0.8389\n",
      "313/313 - 1s - loss: 0.5428 - accuracy: 0.8226 - 815ms/epoch - 3ms/step\n",
      "INFO:tensorflow:Assets written to: save_model\\assets\n"
     ]
    },
    {
     "data": {
      "application/vnd.jupyter.widget-view+json": {
       "model_id": "e82e8c98f6e640b182ed6d07ed17d8b7",
       "version_major": 2,
       "version_minor": 0
      },
      "text/plain": [
       "Downloading artifacts:   0%|          | 0/1 [00:00<?, ?it/s]"
      ]
     },
     "metadata": {},
     "output_type": "display_data"
    },
    {
     "data": {
      "application/vnd.jupyter.widget-view+json": {
       "model_id": "66726744004148ff8ebf907ff1477ac7",
       "version_major": 2,
       "version_minor": 0
      },
      "text/plain": [
       "Downloading artifacts:   0%|          | 0/4 [00:00<?, ?it/s]"
      ]
     },
     "metadata": {},
     "output_type": "display_data"
    },
    {
     "name": "stderr",
     "output_type": "stream",
     "text": [
      "c:\\Users\\janebhop.saw\\Anaconda3\\lib\\site-packages\\_distutils_hack\\__init__.py:33: UserWarning: Setuptools is replacing distutils.\n",
      "  warnings.warn(\"Setuptools is replacing distutils.\")\n"
     ]
    }
   ],
   "source": [
    "from datetime import datetime\n",
    "import json\n",
    "import mlflow\n",
    "from mlflow.models.signature import infer_signature\n",
    "\n",
    "TRACKING_URI = 'http://localhost:5000'\n",
    "EXPERIMENT_ID = 326755177053281989\n",
    "\n",
    "wrapper_model = ModelWrapper()\n",
    "mlflow.set_tracking_uri(TRACKING_URI)\n",
    "run_tag = {'model':'clothing_classification','framework':'tensorflow'}\n",
    "now = datetime.now()\n",
    "run_name = f\"run_name_{now.strftime('%m%d%Y%H%M%S')}\"\n",
    "with mlflow.start_run(experiment_id=EXPERIMENT_ID,tags=run_tag) as run_mlflow:\n",
    "    mlflow.set_tag(\"mlflow.runName\", run_name)\n",
    "    # train model\n",
    "    model = tf.keras.Sequential([\n",
    "        tf.keras.layers.Flatten(input_shape=(28, 28)),\n",
    "        tf.keras.layers.Dense(128, activation='relu'),\n",
    "        tf.keras.layers.Dense(10)\n",
    "            ])\n",
    "    model.compile(optimizer='adam',\n",
    "                    loss=tf.keras.losses.SparseCategoricalCrossentropy(from_logits=True),\n",
    "                    metrics=['accuracy'])\n",
    "    model.fit(train_images, train_labels, epochs=10)\n",
    "    # evaluate\n",
    "    test_loss, test_acc = model.evaluate(test_images,  test_labels, verbose=2)\n",
    "    # log metric\n",
    "    metrics = {\"test_loss\":test_loss,\n",
    "               \"test_accuracy\":test_acc\n",
    "              }\n",
    "    mlflow.log_metrics(metrics)\n",
    "    # log model summary as a text file\n",
    "    model_summary_path = 'model_summary.txt'\n",
    "    stringlist = []\n",
    "    model.summary(print_fn=lambda x: stringlist.append(x))\n",
    "    model_summary = \"\\n\".join(stringlist)\n",
    "    mlflow.log_text(model_summary,model_summary_path)\n",
    "    # save classname file\n",
    "    class_names_path = \"class_names.txt\"\n",
    "    with open(class_names_path, \"w\") as fp:\n",
    "        json.dump(class_names, fp)\n",
    "    # save file model\n",
    "    model_path = 'save_model'\n",
    "    model.save(model_path)\n",
    "    # input-output signature\n",
    "    signature = infer_signature(train_images)\n",
    "    # serve model\n",
    "    artifacts = {\"class_names_path\": class_names_path,'artifact_path':model_path}\n",
    "    mlflow.pyfunc.log_model(\n",
    "        artifact_path='model',\n",
    "        artifacts=artifacts,\n",
    "        code_path=['wrapper'],\n",
    "        python_model=wrapper_model,\n",
    "        signature=signature\n",
    "    )"
   ]
  },
  {
   "cell_type": "code",
   "execution_count": 3,
   "metadata": {},
   "outputs": [
    {
     "name": "stdout",
     "output_type": "stream",
     "text": [
      "1/1 [==============================] - 0s 77ms/step\n"
     ]
    },
    {
     "data": {
      "text/plain": [
       "[('Ankle boot', 0.98597986),\n",
       " ('Pullover', 0.86687165),\n",
       " ('Trouser', 1.0),\n",
       " ('Trouser', 1.0),\n",
       " ('Shirt', 0.87008446)]"
      ]
     },
     "execution_count": 3,
     "metadata": {},
     "output_type": "execute_result"
    }
   ],
   "source": [
    "#predict \n",
    "logged_model = 'runs:/a9269d0619114047ae5dfa21029268b2/model'\n",
    "loaded_model = mlflow.pyfunc.load_model(logged_model)\n",
    "loaded_model.predict(test_images[0:5])"
   ]
  },
  {
   "cell_type": "code",
   "execution_count": null,
   "metadata": {},
   "outputs": [],
   "source": []
  }
 ],
 "metadata": {
  "kernelspec": {
   "display_name": "base",
   "language": "python",
   "name": "python3"
  },
  "language_info": {
   "codemirror_mode": {
    "name": "ipython",
    "version": 3
   },
   "file_extension": ".py",
   "mimetype": "text/x-python",
   "name": "python",
   "nbconvert_exporter": "python",
   "pygments_lexer": "ipython3",
   "version": "3.9.13"
  }
 },
 "nbformat": 4,
 "nbformat_minor": 2
}
